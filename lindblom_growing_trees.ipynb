{
  "cells": [
    {
      "cell_type": "markdown",
      "metadata": {
        "id": "wXDiCRS7ICXn"
      },
      "source": [
        "This will be a brief crash course in the basics of computer programming using a computer \"language\" called R. R is used every day to do real science.\n",
        "\n",
        "We're going to write our code today in this coding notebook. This allows us to write R code on the internet, sort of like Google Docs.\n",
        "\n",
        "Computer code is very specific instructions for what the computer should do. In this notebook, each bit of code or instructions is inside of a \"cell.\" You can make the computer follow the instructions in a cell by pressing the \"Play\" button in the top-left corner. We call this \"running\" a cell.\n",
        "\n",
        "Getting instructions out of order can be very confusing for people, and it's the same for computers. If you run cells out of order the computer might get confused and not work right.\n",
        "\n",
        "What happens if you run the first cell below?"
      ]
    },
    {
      "cell_type": "markdown",
      "metadata": {
        "id": "TZ5BMrulH4Z8"
      },
      "source": [
        "# **A Crash Course on Computer Programming**"
      ]
    },
    {
      "cell_type": "code",
      "execution_count": null,
      "metadata": {
        "colab": {
          "base_uri": "https://localhost:8080/",
          "height": 34
        },
        "id": "4v5f6LObIR9h",
        "outputId": "d06021f1-7e97-4ed6-b543-ed1df96badec",
        "vscode": {
          "languageId": "r"
        }
      },
      "outputs": [],
      "source": [
        "1+1"
      ]
    },
    {
      "cell_type": "markdown",
      "metadata": {
        "id": "fDGLP96PIXqD"
      },
      "source": [
        "What about this cell?"
      ]
    },
    {
      "cell_type": "code",
      "execution_count": null,
      "metadata": {
        "colab": {
          "base_uri": "https://localhost:8080/"
        },
        "id": "h167ZccmIZI8",
        "outputId": "8dc6bb1d-543c-4c41-cb83-010a3227143f",
        "vscode": {
          "languageId": "r"
        }
      },
      "outputs": [],
      "source": [
        "print(\"Hello! We're so good at programming!!!\")"
      ]
    },
    {
      "cell_type": "markdown",
      "metadata": {
        "id": "kMs6Co0DIbr7"
      },
      "source": [
        "Just like how you have to follow very specific grammar rules when you write an essay in English class, you have to follow very specific rules when you write computer code. If you don't follow the grammar rules, the computer won't be able to read what you've written and follow your instructions.\n",
        "\n",
        "Each computer language has different rules. Today we are going to learn some of the rules of R."
      ]
    },
    {
      "cell_type": "markdown",
      "metadata": {
        "id": "tyL6RNJiIf1J"
      },
      "source": [
        "# The Rules of R"
      ]
    },
    {
      "cell_type": "markdown",
      "metadata": {
        "id": "MK2QYB3OIlJ0"
      },
      "source": [
        "Like any written language, computer programming languages have their own sets of rules. When you learn to write in English class, you are taught how to spell words correctly, how to follow grammatical rules, and how to use punctuation. Your teacher might give you a lower grade on your writing assignments if you spell a word incorrectly or forget to add a comma or apostrophe in the correct places.\n",
        "\n",
        "Just like your teacher grades your homework, programming languages like R can be very picky about the code that you write. If you don't follow the right grammatical rules and spelling in your code, the computer will not run, and it may give you error messages which hint at what you did wrong. To avoid getting these errors and to make sure our code runs properly, let's discuss the grammar of writing R code."
      ]
    },
    {
      "cell_type": "markdown",
      "metadata": {
        "id": "yKF0sMGUI0L5"
      },
      "source": [
        "# R spelling\n",
        "There are many \"built-in\" functions that have specific names that need to be spelled correctly. Here in this Google CoLab notebook, these words are easy to spot because they turn a different color once you type them out. Some examples of this are: `for`, `in`, and `function`. When you see these words in the code, they will appear a different color than the rest of the words. This shows that R recognizes these words, and knows what to do when you type them out. We will go over more examples of this in the code.\n",
        "\n",
        "You will also need to spell words correctly if you have named a variable. Variables work in R the same way they do in math. You can think of them as nicknames for some other piece of information. Check out this code for an example:"
      ]
    },
    {
      "cell_type": "code",
      "execution_count": null,
      "metadata": {
        "id": "uTnOcFQoI-kX",
        "vscode": {
          "languageId": "r"
        }
      },
      "outputs": [],
      "source": [
        "my_variable <- \"MY_NAME\"\n",
        "my_variable2 <- 4\n",
        "another_variable <- c(1,2,3)"
      ]
    },
    {
      "cell_type": "code",
      "execution_count": null,
      "metadata": {
        "colab": {
          "base_uri": "https://localhost:8080/",
          "height": 69
        },
        "id": "ATb51sP_JNnD",
        "outputId": "1ac62913-2d7f-459f-aadd-92f1b42db2c1",
        "vscode": {
          "languageId": "r"
        }
      },
      "outputs": [],
      "source": [
        "my_variable\n",
        "my_variable2\n",
        "another_variable"
      ]
    },
    {
      "cell_type": "markdown",
      "metadata": {
        "id": "Nh6iX7o9JYO8"
      },
      "source": [
        "You can name variables almost anything you want with a few exceptions:\n",
        "\n",
        "Variables can't have spaces or punctuation in the name. Use the underscore character _ instead.\n",
        "Variables can't start with a number. If you try to name a variable something like 2_variable, R will give you an error. Use names like variable_2 instead.\n",
        "Some words are reserved for R to use for function names! Be careful not to name your variable any words that are already R functions. You should be able to tell this if the word you type turns a different color in your editor.\n",
        "Once you have named these variables, you can refer to them anytime you like in the code, but they need to have their names spelled correctly in order for R to find them (and of course you still need to follow the R grammar rules!).\n",
        "\n",
        "Something you might notice is that to assign variables, we use a backwards arrow \"<-\" instead of an equal sign \"=\" like in other languages."
      ]
    },
    {
      "cell_type": "markdown",
      "metadata": {
        "id": "aAQVvTsQKRAp"
      },
      "source": [
        "# R grammar\n",
        "R uses punctuation just like any other written language. If you see a line of code that has any symbol such as \"\" ( , :, you need to keep these symbols there in order for the code to run. For example, this line of code will run with no problem:"
      ]
    },
    {
      "cell_type": "code",
      "execution_count": null,
      "metadata": {
        "id": "eEozU5_sKa-Y",
        "vscode": {
          "languageId": "r"
        }
      },
      "outputs": [],
      "source": [
        "my_list <- c(\"a\", \"b\", \"c\")"
      ]
    },
    {
      "cell_type": "markdown",
      "metadata": {
        "id": "tMKKJJfvKfHt"
      },
      "source": [
        "But this code will give you an error:"
      ]
    },
    {
      "cell_type": "code",
      "execution_count": null,
      "metadata": {
        "colab": {
          "base_uri": "https://localhost:8080/",
          "height": 106
        },
        "id": "Ob4h_j7iKhMM",
        "outputId": "3c1e2741-985f-4309-fe86-ce974fac9696",
        "vscode": {
          "languageId": "r"
        }
      },
      "outputs": [],
      "source": [
        "my_list = a, b, c"
      ]
    },
    {
      "cell_type": "markdown",
      "metadata": {
        "id": "1e3EU40qKuTd"
      },
      "source": [
        "# Let's start programming!\n",
        "Now that we have learned some of the rules of R, let's try them out!"
      ]
    },
    {
      "cell_type": "markdown",
      "metadata": {
        "id": "TfLX5GSoK0Oe"
      },
      "source": [
        "# Arithmetic\n",
        "Computers are very good at doing arithmetic. We can do arithmetic using + - * /.\n",
        "\n",
        "What will happen when I run the following cells of code?"
      ]
    },
    {
      "cell_type": "code",
      "execution_count": null,
      "metadata": {
        "colab": {
          "base_uri": "https://localhost:8080/",
          "height": 34
        },
        "id": "T51E8MvsKy5B",
        "outputId": "e1b92fe7-780f-427c-9ccf-3bbedb0f84af",
        "vscode": {
          "languageId": "r"
        }
      },
      "outputs": [],
      "source": [
        "45 / 5"
      ]
    },
    {
      "cell_type": "code",
      "execution_count": null,
      "metadata": {
        "colab": {
          "base_uri": "https://localhost:8080/",
          "height": 34
        },
        "id": "5uHinS5aK8s4",
        "outputId": "8c6180b3-770e-4c93-a8ea-9b1d2d244827",
        "vscode": {
          "languageId": "r"
        }
      },
      "outputs": [],
      "source": [
        "6 * 20"
      ]
    },
    {
      "cell_type": "code",
      "execution_count": null,
      "metadata": {
        "colab": {
          "base_uri": "https://localhost:8080/",
          "height": 34
        },
        "id": "jCAU5wO8K-mg",
        "outputId": "84b9aab8-ff6d-4308-f848-f2361a7c6795",
        "vscode": {
          "languageId": "r"
        }
      },
      "outputs": [],
      "source": [
        "745 * 123 + 12"
      ]
    },
    {
      "cell_type": "markdown",
      "metadata": {
        "id": "1UKP1JPwLA_E"
      },
      "source": [
        "!!**Your Turn**!! There are an average of 30,000,000,000,000 cells in a human body. If there are 25 people in this room, how many human cells are in this room? Hint: Write some code to multiply 25 x 30000000000000"
      ]
    },
    {
      "cell_type": "code",
      "execution_count": null,
      "metadata": {
        "id": "_6mlSqUMLbA9",
        "vscode": {
          "languageId": "r"
        }
      },
      "outputs": [],
      "source": [
        "####### YOUR CODE HERE #######"
      ]
    },
    {
      "cell_type": "markdown",
      "metadata": {
        "id": "-w9Ad_0cLeDB"
      },
      "source": [
        "# Strings\n",
        "Some words, letters, or text surrounded by \"\" or '' is called a string. Whenever we want to work with letters or words, we have to use strings."
      ]
    },
    {
      "cell_type": "code",
      "execution_count": null,
      "metadata": {
        "colab": {
          "base_uri": "https://localhost:8080/",
          "height": 34
        },
        "id": "wh9CeMgyLhtP",
        "outputId": "545e95ed-c4ea-4874-a4e1-c337bb64389c",
        "vscode": {
          "languageId": "r"
        }
      },
      "outputs": [],
      "source": [
        "\"Hello World!\""
      ]
    },
    {
      "cell_type": "markdown",
      "metadata": {
        "id": "dST9FpU-LmEX"
      },
      "source": [
        "**!!Your Turn!!** Can you make a string with your name in it?"
      ]
    },
    {
      "cell_type": "code",
      "execution_count": null,
      "metadata": {
        "id": "fnh4F6n-LldM",
        "vscode": {
          "languageId": "r"
        }
      },
      "outputs": [],
      "source": [
        "####### YOUR CODE HERE #######"
      ]
    },
    {
      "cell_type": "markdown",
      "metadata": {
        "id": "Lv82BUBnGasU"
      },
      "source": [
        "# Variables\n",
        "Variables store information we want to use later. If we write a word without \"\" or '' around it, the computer thinks that's a variable name.\n",
        "\n",
        "We put information into variables using `<-`"
      ]
    },
    {
      "cell_type": "code",
      "execution_count": null,
      "metadata": {
        "id": "LW1UIYk1Gm7h",
        "vscode": {
          "languageId": "r"
        }
      },
      "outputs": [],
      "source": [
        "coolest_school <- \"UofC\""
      ]
    },
    {
      "cell_type": "markdown",
      "metadata": {
        "id": "YmxKrd38GrZD"
      },
      "source": [
        "Once we have stored information inside of a variable, we use it in other bits of code. For example, what do you think the following cell will print out?"
      ]
    },
    {
      "cell_type": "code",
      "execution_count": null,
      "metadata": {
        "colab": {
          "base_uri": "https://localhost:8080/"
        },
        "id": "wLJFFzaSGwSl",
        "outputId": "ae0b0ad0-4fa0-4999-dcfa-6c0ba142a813",
        "vscode": {
          "languageId": "r"
        }
      },
      "outputs": [],
      "source": [
        "print(paste0(\"Hello students of \", coolest_school, \"!!\"))"
      ]
    },
    {
      "cell_type": "markdown",
      "metadata": {
        "id": "jpetinVWHRdt"
      },
      "source": [
        "Something you might notice is that we used a `paste0` command to combine our text and variable before printing!\n",
        "\n",
        "We can also do arithmetic with variables that contain numbers using `+ - / *`. Can you predict the output of this cell before you run it?"
      ]
    },
    {
      "cell_type": "code",
      "execution_count": null,
      "metadata": {
        "colab": {
          "base_uri": "https://localhost:8080/",
          "height": 34
        },
        "id": "laJ2EgX2HqU_",
        "outputId": "72a51c10-4dc1-469a-aea3-4ba143427b0b",
        "vscode": {
          "languageId": "r"
        }
      },
      "outputs": [],
      "source": [
        "firstnumber <- 5\n",
        "secondnumber <- 4\n",
        "thirdnumber <- 3.0\n",
        "firstnumber * secondnumber"
      ]
    },
    {
      "cell_type": "markdown",
      "metadata": {
        "id": "LYkhtruoHvC4"
      },
      "source": [
        "‼️**Your Turn**‼️ Multiplying `firstnumber` by `thirdnumber` instead. Before you run the cell, predict what the output will be. Is your prediction correct?"
      ]
    },
    {
      "cell_type": "code",
      "execution_count": null,
      "metadata": {
        "id": "rszNemSBHyKg",
        "vscode": {
          "languageId": "r"
        }
      },
      "outputs": [],
      "source": [
        "####### YOUR CODE HERE #######"
      ]
    },
    {
      "cell_type": "markdown",
      "metadata": {
        "id": "OFDs8L6xH7X5"
      },
      "source": [
        "‼️**Your Turn**‼️ Can you make a variable with your name in it? There's some code to get you started below."
      ]
    },
    {
      "cell_type": "code",
      "execution_count": null,
      "metadata": {
        "id": "HUt5LoTQH8F0",
        "vscode": {
          "languageId": "r"
        }
      },
      "outputs": [],
      "source": [
        "####### YOUR CODE HERE #######"
      ]
    },
    {
      "cell_type": "markdown",
      "metadata": {
        "id": "5ibqT5IlIB5L"
      },
      "source": [
        "# Vectors, Indexing, & For Loops\n",
        "Sometimes we want to store a bunch of information **together**. One way we can do that using a vector, which is a list where everything is the same type (for example, all characters or all numerical). We make a list using `c()` and putting the values we want to store in between, separted by commas. For example..."
      ]
    },
    {
      "cell_type": "code",
      "execution_count": null,
      "metadata": {
        "colab": {
          "base_uri": "https://localhost:8080/",
          "height": 34
        },
        "id": "TMggjOrnjbpi",
        "outputId": "00ce0578-4d8e-4944-f4f2-50fbf7413990",
        "vscode": {
          "languageId": "r"
        }
      },
      "outputs": [],
      "source": [
        "colors <- c(\"red\", \"orange\", \"yellow\", \"green\", \"blue\", \"purple\")\n",
        "colors"
      ]
    },
    {
      "cell_type": "markdown",
      "metadata": {
        "id": "Opx11kkeJDyi"
      },
      "source": [
        "We've seen how to put values *into* a vector. But what if we want to get a value back *out* of the vector?\n",
        "\n",
        "Each value in a vector lives at an address called an **index**. To get the value that lives at index `i`, we use square brackets like this: `my_vector[i]`.\n",
        "\n",
        "For example, to print the first color in the `colors` vector, we would use..."
      ]
    },
    {
      "cell_type": "code",
      "execution_count": null,
      "metadata": {
        "colab": {
          "base_uri": "https://localhost:8080/",
          "height": 34
        },
        "id": "Es50rmTVJC2B",
        "outputId": "b881957d-3940-4803-df0e-62d64907f5df",
        "vscode": {
          "languageId": "r"
        }
      },
      "outputs": [],
      "source": [
        "colors[1]"
      ]
    },
    {
      "cell_type": "markdown",
      "metadata": {
        "id": "XKRp7d98JUk2"
      },
      "source": [
        "Often we use computer code to do the similar tasks over and over. We can do this using a loop. The next cell shows how we can use a `for` loop to print out the color at each index in the vector."
      ]
    },
    {
      "cell_type": "code",
      "execution_count": null,
      "metadata": {
        "colab": {
          "base_uri": "https://localhost:8080/"
        },
        "id": "wrXLbZlkj3e0",
        "outputId": "e7b31b11-c27e-4fb9-b1fd-09fb104f722f",
        "vscode": {
          "languageId": "r"
        }
      },
      "outputs": [],
      "source": [
        "for (i in c(1,2,3,4,5)){\n",
        "  print(paste0(colors[i],\" is at index \",i))\n",
        "}"
      ]
    },
    {
      "cell_type": "markdown",
      "metadata": {
        "id": "guw7_fS5JvVf"
      },
      "source": [
        "‼️**Your Turn**‼️ Can you use indexing to print out your favorite color from the vector `colors`?"
      ]
    },
    {
      "cell_type": "code",
      "execution_count": null,
      "metadata": {
        "colab": {
          "base_uri": "https://localhost:8080/",
          "height": 263
        },
        "id": "CGf7QvNyJzGt",
        "outputId": "6b70baea-9e4f-43c9-bba5-36dbfe02c1eb",
        "vscode": {
          "languageId": "r"
        }
      },
      "outputs": [],
      "source": [
        "####### YOUR CODE HERE #######\n",
        "print(paste0(\"My favorite color is \", ))"
      ]
    },
    {
      "cell_type": "markdown",
      "metadata": {
        "id": "cwsfaa1eJ6uq"
      },
      "source": [
        "**!!Your Turn!!** Write your own for loop iterating over each color in the list named `colors` from the previous code block."
      ]
    },
    {
      "cell_type": "code",
      "execution_count": null,
      "metadata": {
        "id": "28-eXyuGJ9nL",
        "vscode": {
          "languageId": "r"
        }
      },
      "outputs": [],
      "source": [
        "####### YOUR CODE HERE #######\n"
      ]
    },
    {
      "cell_type": "markdown",
      "metadata": {
        "id": "EAEpxdLuKCdd"
      },
      "source": [
        "# Functions\n",
        "For loops are nice for doing really similar, simple tasks over and over.\n",
        "\n",
        "Sometimes, though, we want to do complicated things over and over. One way to do this is using a **function**.\n",
        "\n",
        "You can think of a function as a little machine. It takes in an **input** and **returns** an output.\n",
        "\n",
        "Here's an example of a function. This function takes in some number represented by the variable name `var`. It will do some computations to `var` depending on whether `var` is less than or greater than 0."
      ]
    },
    {
      "cell_type": "code",
      "execution_count": null,
      "metadata": {
        "id": "vFHLuw-fKAvt",
        "vscode": {
          "languageId": "r"
        }
      },
      "outputs": [],
      "source": [
        "my_first_function <- function(var) {\n",
        "  if (var < 0) {\n",
        "    var <- 0\n",
        "  } else {\n",
        "    var <- var + 10\n",
        "    var <- var / 12\n",
        "    var <- var * 3.4\n",
        "  }\n",
        "  return(var)\n",
        "}"
      ]
    },
    {
      "cell_type": "markdown",
      "metadata": {
        "id": "1xysPPZOfn7U"
      },
      "source": [
        "Now we can use our function on some different inputs!"
      ]
    },
    {
      "cell_type": "code",
      "execution_count": null,
      "metadata": {
        "colab": {
          "base_uri": "https://localhost:8080/",
          "height": 34
        },
        "id": "kFBGbnP6fqnS",
        "outputId": "b2efd3da-849f-43cc-b242-dabcb8716d0f",
        "vscode": {
          "languageId": "r"
        }
      },
      "outputs": [],
      "source": [
        "my_first_function(-10)"
      ]
    },
    {
      "cell_type": "code",
      "execution_count": null,
      "metadata": {
        "colab": {
          "base_uri": "https://localhost:8080/",
          "height": 34
        },
        "id": "2QwWtvFtftCw",
        "outputId": "31156402-0a01-4551-f529-6c225da435e5",
        "vscode": {
          "languageId": "r"
        }
      },
      "outputs": [],
      "source": [
        "my_first_function(34)"
      ]
    },
    {
      "cell_type": "code",
      "execution_count": null,
      "metadata": {
        "colab": {
          "base_uri": "https://localhost:8080/",
          "height": 34
        },
        "id": "0gtbuvZqfu_X",
        "outputId": "02470a02-b178-4c7a-9fb8-7b29a2a7a371",
        "vscode": {
          "languageId": "r"
        }
      },
      "outputs": [],
      "source": [
        "my_first_function(125)"
      ]
    },
    {
      "cell_type": "markdown",
      "metadata": {
        "id": "5UPWGQzvfxsF"
      },
      "source": [
        "‼️**Your Turn**‼️ Can you write a function that...\n",
        "- Takes in a variable\n",
        "- If the variable is less than 10, it divides the variable by 2\n",
        "- Otherwise, it multiplies the variable by 3 and adds 1\n",
        "- Returns the output"
      ]
    },
    {
      "cell_type": "code",
      "execution_count": null,
      "metadata": {
        "id": "qjDJR4b4f06l",
        "vscode": {
          "languageId": "r"
        }
      },
      "outputs": [],
      "source": [
        "####### YOUR CODE HERE #######\n"
      ]
    },
    {
      "cell_type": "markdown",
      "metadata": {
        "id": "WEbgdMkxgjqR"
      },
      "source": [
        "# Packages and Libraries\n",
        "We've learned how to write R code, creat variables, and use functions. A lot of times, someone has already written a function for what we need, which can be found in an **R library or package**. These are a collection of pre-written functions that can help us perform tasks like data visualization or analysis so that we don't have to write all of our functions from scratch!\n",
        "\n",
        "Before we use a library, we need to install it. Let's start by installing a package called ggplot2, which is a useful tool for making plots:"
      ]
    },
    {
      "cell_type": "code",
      "execution_count": null,
      "metadata": {
        "colab": {
          "base_uri": "https://localhost:8080/"
        },
        "id": "Kv_xd0h2_lFd",
        "outputId": "e543485d-2908-4b89-f167-61fccc4bf8e8",
        "vscode": {
          "languageId": "r"
        }
      },
      "outputs": [],
      "source": [
        "install.packages(\"ggplot2\")"
      ]
    },
    {
      "cell_type": "markdown",
      "metadata": {
        "id": "ZY-HCevXytxw"
      },
      "source": [
        "Now that we've installed it, we load it. We need to do this every time we start a new R session:"
      ]
    },
    {
      "cell_type": "code",
      "execution_count": null,
      "metadata": {
        "id": "osba6VsXy2Wt",
        "vscode": {
          "languageId": "r"
        }
      },
      "outputs": [],
      "source": [
        "library(ggplot2)"
      ]
    },
    {
      "cell_type": "markdown",
      "metadata": {
        "id": "lpHYfgDAy7ZH"
      },
      "source": [
        "If you're not sure how to use a library, R has built-in documentation:"
      ]
    },
    {
      "cell_type": "code",
      "execution_count": null,
      "metadata": {
        "id": "8gN5umgkzDRM",
        "vscode": {
          "languageId": "r"
        }
      },
      "outputs": [],
      "source": [
        "help(package = \"ggplot2\") # See all functions in the ggplot2 library\n",
        "?ggplot # Help for a specific function"
      ]
    },
    {
      "cell_type": "markdown",
      "metadata": {
        "id": "tAyuyNJXzXmS"
      },
      "source": [
        "Now that we've learned some of the basics in R, let's apply this to some biology!"
      ]
    },
    {
      "cell_type": "markdown",
      "metadata": {
        "id": "YotSAfPI_l5v"
      },
      "source": [
        "\n",
        "\n",
        "# Phylogenetics: DNA Decodes the Family Tree of Life\n",
        "## Loading Necessary Helper files\n",
        "\n",
        "<font color = \"red\"> **‼️You have to run cells in this section or else the rest of the activity won't work‼️**\n",
        "\n",
        "This imports a bunch of functions that we've written to help you. Note: installing and loading the libraries might take a second!\n"
      ]
    },
    {
      "cell_type": "code",
      "execution_count": null,
      "metadata": {
        "colab": {
          "base_uri": "https://localhost:8080/"
        },
        "id": "A6EhcMTsIdGU",
        "outputId": "afa4f501-54f5-4d27-8a93-993433c66293",
        "vscode": {
          "languageId": "r"
        }
      },
      "outputs": [],
      "source": [
        "# Install and load necessary packages\n",
        "install.packages('ape')\n",
        "install.packages('ggplot2')\n",
        "install.packages('tidyr')\n",
        "library(ape)\n",
        "library(ggplot2)\n",
        "library(tidyr)"
      ]
    },
    {
      "cell_type": "code",
      "execution_count": null,
      "metadata": {
        "id": "r2px4WrExlZK",
        "vscode": {
          "languageId": "r"
        }
      },
      "outputs": [],
      "source": [
        "# get needed functions we have prepared for you\n",
        "# system('git clone https://github.com/UCCOMBO/Phylogenetics')\n",
        "# Read the sequence table\n",
        "sequence_table <- read.delim('https://raw.githubusercontent.com/UCCOMBO/Phylogenetics/refs/heads/main/sample_sequence_table.tsv', sep = \"\\t\", header = TRUE, stringsAsFactors = FALSE)\n",
        "# load a function to format data\n",
        "source(\"https://raw.githubusercontent.com/UCCOMBO/Phylogenetics/refs/heads/main/format_fasta.R\")\n",
        "source(\"https://raw.githubusercontent.com/UCCOMBO/Phylogenetics/refs/heads/main/create_spp_data.R\")"
      ]
    },
    {
      "cell_type": "markdown",
      "metadata": {
        "id": "7eh45GXd4Aa_"
      },
      "source": [
        "## Scientific Data Exploration\n",
        "\n",
        "Let's pretend that you are a scientist from another planet. You want to figure out how similar different animals are to each other in a dataset you received from your human collaborators. You are familiar with your human collaborator, so you want to compare the other animals to them as a reference.\n",
        "\n",
        "Your collaborator has sent you some basic data to analyze. They have sent you some information on traits/features the animals have as well as their DNA sequence."
      ]
    },
    {
      "cell_type": "markdown",
      "metadata": {
        "id": "efq3Y-TE44we"
      },
      "source": [
        "### Exploring animal traits\n",
        "\n",
        "Let's begin by looking at some of the traits/features the animals have and seeing what we may be able to learn about them."
      ]
    },
    {
      "cell_type": "code",
      "execution_count": null,
      "metadata": {
        "colab": {
          "base_uri": "https://localhost:8080/",
          "height": 255
        },
        "id": "5upIFFwg5bIV",
        "outputId": "e64a8a29-3f0e-4e06-d552-8685792d00b2",
        "vscode": {
          "languageId": "r"
        }
      },
      "outputs": [],
      "source": [
        "species_features <- data.frame(\"Mouse\" = c(1, 1, 1, 0, 1), \"Dolphin\" = c(1, 1, 1, 0, 0),\n",
        "                               \"Worm\" = c(0, 1, 0, 0, 0), \"Human\" = c(1, 1, 1, 1, 1),\n",
        "                               \"Clownfish\" = c(1, 1, 0, 0, 0))\n",
        "row.names(species_features) <- c(\"Bones\", \"Skin\", \"Lungs\", \"2 Legs\", \"Fur or Hair\")\n",
        "\n",
        "species_features"
      ]
    },
    {
      "cell_type": "markdown",
      "metadata": {
        "id": "w7ZcuYW75fUd"
      },
      "source": [
        "We're given a table of each species as well as information about some of their triats. The boxes with 1s indicate that the species has the trait, and the 0s indicate that the species does not have the trait.\n",
        "\n",
        "Now, let's try to count up the total number of species with each feature."
      ]
    },
    {
      "cell_type": "code",
      "execution_count": null,
      "metadata": {
        "colab": {
          "base_uri": "https://localhost:8080/",
          "height": 255
        },
        "id": "wSZ8m1kw50n5",
        "outputId": "df235e28-edad-4128-c012-33e0c480162c",
        "vscode": {
          "languageId": "r"
        }
      },
      "outputs": [],
      "source": [
        "# Sum up total number of species with each feature and save in simpler table\n",
        "sum_species <- data.frame(\"Features\" = row.names(species_features),\n",
        "                          \"Count\" = rowSums(species_features))\n",
        "row.names(sum_species) <- NULL\n",
        "sum_species"
      ]
    },
    {
      "cell_type": "markdown",
      "metadata": {
        "id": "TadaHM5C55pZ"
      },
      "source": [
        "Great, now we have a table with these summed up values. Finally, let's try to create a bar plot to visualize the information on this table. From this you can start to get a sense of which features are distinct among these species.\n",
        "\n",
        "We will use a package called `ggplot2` to make plots in this section. The code might look a little different than other code we've showed you - don't worry about it! R software developers use a wide range of grammar when creating these packages.\n",
        "\n",
        "**Challenge**\n",
        "\n",
        "See if you can pick up on how `ggplot` specifies the following:\n",
        "- X and Y variables\n",
        "- color of the plot\n",
        "- type of plot\n",
        "Can you make your own modifications to these plots? Ask your volunteer for more help!"
      ]
    },
    {
      "cell_type": "code",
      "execution_count": null,
      "metadata": {
        "colab": {
          "base_uri": "https://localhost:8080/",
          "height": 437
        },
        "id": "kLdeYfsU55Qw",
        "outputId": "34a3ee60-4b69-4910-8b5f-d05832d60248",
        "vscode": {
          "languageId": "r"
        }
      },
      "outputs": [],
      "source": [
        "# Create bar plot\n",
        "ggplot(sum_species, aes(x=Features, y=Count )) +\n",
        "  geom_bar(stat = \"identity\", fill=\"blue\") +\n",
        "  theme_bw()"
      ]
    },
    {
      "cell_type": "markdown",
      "metadata": {
        "id": "z7D0bF7o60Oe"
      },
      "source": [
        "Let's say we were also given information about the heights / lengths of each of these species. Let's try to look at that data and see how we might plot it."
      ]
    },
    {
      "cell_type": "code",
      "execution_count": null,
      "metadata": {
        "colab": {
          "base_uri": "https://localhost:8080/",
          "height": 412
        },
        "id": "WvNVpE0m6z7P",
        "outputId": "fed47422-ea0b-4435-fb97-e6491a6ce3cd",
        "vscode": {
          "languageId": "r"
        }
      },
      "outputs": [],
      "source": [
        "species_lengths <- data.frame(\"Mouse\" = c(5, 7.2, 6.5, 8, 5.3, 4.2, 6.1, 5.8, 6.9, 7.4),\n",
        "                              \"Dolphin\" = c(60.0, 81.6, 114, 144, 372,\n",
        "                                            280.8, 211.2, 124.8, 93.6, 134.4),\n",
        "                              \"Worm\" = c(3, 5.5, 8.1, 8.4, 8.9, 13.7, 12.1, 9.4, 7.2, 10.4),\n",
        "                              \"Human\" = c(52, 64, 69, 75.3, 76, 57, 72.1, 66, 56.4, 60.4),\n",
        "                              \"Clownfish\" = c(3.9, 4.8, 5.9, 7.1, 6.4, 4.2, 6.8, 7, 6.1, 5.9))\n",
        "species_lengths"
      ]
    },
    {
      "cell_type": "markdown",
      "metadata": {
        "id": "Lljknpf_7Ee5"
      },
      "source": [
        "As you can see, we again have a table summarizing different heights / lengths for 10 individuals from each species. A boxplot might be a good way to look at this data."
      ]
    },
    {
      "cell_type": "code",
      "execution_count": null,
      "metadata": {
        "colab": {
          "base_uri": "https://localhost:8080/",
          "height": 437
        },
        "id": "zvV_2iDs7ELi",
        "outputId": "d2c33077-57dc-476f-f1a1-1c21554fa7c1",
        "vscode": {
          "languageId": "r"
        }
      },
      "outputs": [],
      "source": [
        "# Reformat so that we have two columns containing the same data\n",
        "species_length_reformat <- pivot_longer(species_lengths,\n",
        "                                        cols = everything(),\n",
        "                                        names_to = \"Species\",\n",
        "                                        values_to = \"Length\")\n",
        "\n",
        "# Create boxplot of all species\n",
        "ggplot(species_length_reformat, aes(x=Species, y=Length)) +\n",
        "  ylab(\"Length (inches)\") +\n",
        "  geom_boxplot() +\n",
        "  theme_bw()"
      ]
    },
    {
      "cell_type": "markdown",
      "metadata": {
        "id": "6q_PZfhz7RAz"
      },
      "source": [
        "As expected, the dolphins seem to be the longest, followed by the humans, with the mouse, worm, and clownfish heights being much smaller. What happens if we try to zoom in on just the height of the humans?"
      ]
    },
    {
      "cell_type": "code",
      "execution_count": null,
      "metadata": {
        "colab": {
          "base_uri": "https://localhost:8080/",
          "height": 437
        },
        "id": "onvoY39l7Qmj",
        "outputId": "06e84fdf-30ad-4abf-dbf0-bc259fc30576",
        "vscode": {
          "languageId": "r"
        }
      },
      "outputs": [],
      "source": [
        "# Zoom in on just humans\n",
        "human_only <- data.frame(\"Species\" = rep(\"Human\", 10),\n",
        "                         \"Length\" = c(52, 64, 69, 75.3, 76, 57, 72.1, 66, 56.4, 60.4))\n",
        "\n",
        "ggplot(human_only, aes(x=Species, y=Length)) +\n",
        "  geom_boxplot() + ylab(\"Length (inches)\") +\n",
        "  theme_bw()"
      ]
    },
    {
      "cell_type": "markdown",
      "metadata": {
        "id": "-cmuoTQr7PqM"
      },
      "source": [
        "Now we're able to see that the range of the human heights seems to go from about 50 inches to 80 inches much more clearly, with a median height around 65 inches."
      ]
    },
    {
      "cell_type": "markdown",
      "metadata": {
        "id": "2UsZZdsZKjWj"
      },
      "source": [
        "## Exploring DNA sequences\n",
        "Now that we've taken a look at the trait information we have, let's start to look at the DNA! Like before, we can get a sense of what's in the data by looking at the first few lines of the dataframe using the command `head`."
      ]
    },
    {
      "cell_type": "code",
      "execution_count": null,
      "metadata": {
        "colab": {
          "base_uri": "https://localhost:8080/",
          "height": 255
        },
        "id": "3fh7iTcsKu0X",
        "outputId": "a035b452-5cc0-46bb-924e-71e4990fcfe6",
        "vscode": {
          "languageId": "r"
        }
      },
      "outputs": [],
      "source": [
        "head(sequence_table)"
      ]
    },
    {
      "cell_type": "markdown",
      "metadata": {
        "id": "m6dRkdIFxOmS"
      },
      "source": [
        "As you can see, we have a table of DNA sequences for several different animal species"
      ]
    },
    {
      "cell_type": "markdown",
      "metadata": {
        "id": "tcUxZII0MbxC"
      },
      "source": [
        "Now that we have a sense of what's in the dataframe, we also want to know how many rows and columns are in the data. We can do this using a command to find the dimension called `dim`, which returns the number of rows and columns.\n",
        "\n",
        "**How many genes (rows) and species (columns) do we have?**"
      ]
    },
    {
      "cell_type": "code",
      "execution_count": null,
      "metadata": {
        "colab": {
          "base_uri": "https://localhost:8080/",
          "height": 69
        },
        "id": "m4PhfmcfMnxV",
        "outputId": "e8774df4-f7b4-43c7-cd6c-bc701c1b64b3",
        "vscode": {
          "languageId": "r"
        }
      },
      "outputs": [],
      "source": [
        "dim(sequence_table)\n",
        "print(paste0(\"The number of genes is: \", nrow(sequence_table))) # number of genes\n",
        "print(paste0(\"The number of species is: \", ncol(sequence_table))) # number of species"
      ]
    },
    {
      "cell_type": "markdown",
      "metadata": {
        "id": "J6mQTavkIEIh"
      },
      "source": [
        "**What kinds of species do we have?**"
      ]
    },
    {
      "cell_type": "code",
      "execution_count": null,
      "metadata": {
        "colab": {
          "base_uri": "https://localhost:8080/",
          "height": 34
        },
        "id": "LhGD2cYtLkbH",
        "outputId": "ed33427d-5088-484b-bcc2-5617e9476331",
        "vscode": {
          "languageId": "r"
        }
      },
      "outputs": [],
      "source": [
        "colnames(sequence_table)"
      ]
    },
    {
      "cell_type": "markdown",
      "metadata": {
        "id": "XYC0Rtl8VP9b"
      },
      "source": [
        "We can see that we have a dataframe where the rows are genes and the columns are species. That means each cell in the dataframe is the gene sequence for a particular species. We can access a particular cell by *indexing*. Let's say we want to get all of the gene sequences for dolphin species."
      ]
    },
    {
      "cell_type": "code",
      "execution_count": null,
      "metadata": {
        "colab": {
          "base_uri": "https://localhost:8080/"
        },
        "id": "jxNJOr4QVOys",
        "outputId": "35e16074-d90a-4f94-e53f-b96147505262",
        "vscode": {
          "languageId": "r"
        }
      },
      "outputs": [],
      "source": [
        "dolphin_sequences <- sequence_table$dolphin\n",
        "print(dolphin_sequences)"
      ]
    },
    {
      "cell_type": "markdown",
      "metadata": {
        "id": "P8jXVBgI0trk"
      },
      "source": [
        "What if we want to just get the dolphin's sequence for gene 1?"
      ]
    },
    {
      "cell_type": "code",
      "execution_count": null,
      "metadata": {
        "colab": {
          "base_uri": "https://localhost:8080/"
        },
        "id": "yZeZepaI00Es",
        "outputId": "9e127a75-b8d3-4473-e005-424ea0d70c26",
        "vscode": {
          "languageId": "r"
        }
      },
      "outputs": [],
      "source": [
        "dolphin_gene1 <- dolphin_sequences[1]\n",
        "print(dolphin_gene1)"
      ]
    },
    {
      "cell_type": "markdown",
      "metadata": {
        "id": "rekfAovz033J"
      },
      "source": [
        "**How many nucleotides are in these genes?**\n",
        "\n",
        "If we want to see how long the dolphin's sequence for gene 1 is (i.e. the number of nucleotides in gene 1), we can use `nchar()` to get the number of characters or letters.\n"
      ]
    },
    {
      "cell_type": "code",
      "execution_count": null,
      "metadata": {
        "colab": {
          "base_uri": "https://localhost:8080/",
          "height": 34
        },
        "id": "V-IwsCKV09eg",
        "outputId": "249e074e-48e2-49e6-a713-c2d4900894bf",
        "vscode": {
          "languageId": "r"
        }
      },
      "outputs": [],
      "source": [
        "nchar(dolphin_gene1)"
      ]
    },
    {
      "cell_type": "markdown",
      "metadata": {
        "id": "OE8XfLeG2RnI"
      },
      "source": [
        "Let's take another look at the sequences for each species. Based on the sequences, can you tell which species are more closely related? How do you think you can determine how closely species are related?"
      ]
    },
    {
      "cell_type": "code",
      "execution_count": null,
      "metadata": {
        "colab": {
          "base_uri": "https://localhost:8080/",
          "height": 255
        },
        "id": "rYK9Mrmm2k7S",
        "outputId": "077139c1-3379-4c29-f787-0cd67066a3c1",
        "vscode": {
          "languageId": "r"
        }
      },
      "outputs": [],
      "source": [
        "sequence_table"
      ]
    },
    {
      "cell_type": "markdown",
      "metadata": {
        "id": "xxL3CiNN60fr"
      },
      "source": [
        "We can measure how similar or different two species are based on the number of differences in nucleotides between sequences -- it's pretty hard to tell just by looking at the sequences visually though.\n",
        "\n",
        "Let's say that we wanted to get the number of differences in nucleotide sequence between human and mouse for gene 1 (both sequences are the same length).\n",
        "\n",
        "Human: GACTAATTCGGGAGTG\n",
        "\n",
        "Mouse: GAGTAATTTGGGAGTG\n",
        "\n",
        "We want to count how many positions are different between these two sequences. Since this can take a long time to do manually and we want to be able to do this for any pair of species (not just human and monkey) or any gene, this is something we might want to write a function for.\n",
        "\n",
        "Sometimes, it can be helpful to think through the logic of our problem step by step before writing actual code. We can do this by writing what we call **pseudocode**, which helps us think about how we would write this into a function without getting caught up in making sure the specific code works.\n",
        "\n",
        "Discuss with your neighbors each step you would take to get the number of different nucleotides in the sequences. How can we keep track of the number of differences (hint: remember variables)?"
      ]
    },
    {
      "cell_type": "code",
      "execution_count": null,
      "metadata": {
        "id": "49lgLBov7N7K",
        "vscode": {
          "languageId": "r"
        }
      },
      "outputs": [],
      "source": [
        "# Insert your steps"
      ]
    },
    {
      "cell_type": "markdown",
      "metadata": {
        "id": "WavkzcAIgpV1"
      },
      "source": [
        "Here is one way we could do it:\n",
        "\n",
        "1. Pick two sequences (with equal lengths) to compare.\n",
        "2. Align them letter by letter.\n",
        "3. Create a variable to count the differences. (Start at 0)\n",
        "4. Loop through each position in the sequence:\n",
        "If the letters at the same position are different, increase the count (remember `for` loops?)\n",
        "5. At the end, print the number of differences.\n",
        "\n",
        "Now that we've written out the general steps, we can try to translate these steps into R code:"
      ]
    },
    {
      "cell_type": "code",
      "execution_count": null,
      "metadata": {
        "id": "ugR8wD6Hh_8i",
        "vscode": {
          "languageId": "r"
        }
      },
      "outputs": [],
      "source": [
        "######## YOUR CODE HERE #########"
      ]
    },
    {
      "cell_type": "markdown",
      "metadata": {
        "id": "Cpr8VXbm2oHI"
      },
      "source": [
        "As we just saw, it can take a lot of effort to write our own functions.\n",
        "\n",
        "Luckily, the `ape` package has a pre-written function called `dist.gene()` that can calculate the differences between sequences for us, so we don't have to write our own!\n",
        "\n",
        "Let's try looking at the differences between species for gene 1."
      ]
    },
    {
      "cell_type": "code",
      "execution_count": null,
      "metadata": {
        "colab": {
          "base_uri": "https://localhost:8080/",
          "height": 173
        },
        "id": "ZJAXI1q23MY9",
        "outputId": "e2e84667-f0f1-44ba-fce2-37bfda8ef68b",
        "vscode": {
          "languageId": "r"
        }
      },
      "outputs": [],
      "source": [
        "# Extract the first row as a dataframe\n",
        "gene1_sequences <- sequence_table[1, , drop = FALSE]  # Keeps it as a dataframe\n",
        "print(gene1_sequences)\n",
        "# format this into a fasta file format\n",
        "gene_fasta <- get_fasta_format(gene1_sequences)\n",
        "\n",
        "# create distance matrix\n",
        "distance_matrix <- dist.gene(gene_fasta)\n",
        "distance_matrix"
      ]
    },
    {
      "cell_type": "markdown",
      "metadata": {
        "id": "bHjRS2dM4x1P"
      },
      "source": [
        "We can represent the distance or similarity between species using a **phylogenetic tree** based on the matrix above. How would you draw this tree on paper?\n",
        "\n",
        "Now we can check our work using a built-in function from the `ape` package!\n"
      ]
    },
    {
      "cell_type": "code",
      "execution_count": null,
      "metadata": {
        "colab": {
          "base_uri": "https://localhost:8080/",
          "height": 857
        },
        "id": "SNJWkAYp4_Q4",
        "outputId": "64bd7330-d61f-4f48-de5a-0ed60701a5c8",
        "vscode": {
          "languageId": "r"
        }
      },
      "outputs": [],
      "source": [
        "# build the phylogenetic tree\n",
        "nj_tree <- bionj(distance_matrix)\n",
        "\n",
        "# plot tree\n",
        "plot.phylo(nj_tree)\n",
        "plot.phylo(nj_tree, use.edge.length=F)"
      ]
    },
    {
      "cell_type": "markdown",
      "metadata": {
        "id": "SqFbfSzp7gD8"
      },
      "source": [
        "When we look at the tree, each branch indicates a point at which there is a change in the sequence between species.\n",
        "\n",
        "But this phylogenetic tree was just for one gene! Organisms have many genes, and some genes might be more conserved (similar) than others. In order to compare overall how closely related species are, we would need to take into account all the genes.  To do this, we can compare the whole genome (or all the genes put together).\n",
        "\n",
        "How would you build this tree for all the genes?\n",
        "\n",
        "Let's start by combining all the genes for each species to make their \"genomes\" and store them in a `data.frame`:"
      ]
    },
    {
      "cell_type": "code",
      "execution_count": null,
      "metadata": {
        "colab": {
          "base_uri": "https://localhost:8080/"
        },
        "id": "OYYv-ss078nn",
        "outputId": "504fc7f6-7188-44ad-ab4f-001ef50ed985",
        "vscode": {
          "languageId": "r"
        }
      },
      "outputs": [],
      "source": [
        "# Make dataframe to store all species and their genomes\n",
        "species_genomes_df <- data.frame(Species = character(), Genome = character(), stringsAsFactors = FALSE)\n",
        "\n",
        "# Loop over species (columns) and concatenate sequences using rbind()\n",
        "for (species in colnames(sequence_table)) {\n",
        "  # Combine all sequences for the current species\n",
        "  genome_sequence <- paste(sequence_table[[species]], collapse = \"\")\n",
        "\n",
        "  # Append to dataframe using rbind\n",
        "  species_genomes_df <- rbind(species_genomes_df, data.frame(Species = species, Genome = genome_sequence))\n",
        "}\n",
        "\n",
        "print(species_genomes_df)\n"
      ]
    },
    {
      "cell_type": "markdown",
      "metadata": {
        "id": "NeK4hvl89CiC"
      },
      "source": [
        "Now let's recreate our phylogenetic tree using the entire genome!"
      ]
    },
    {
      "cell_type": "code",
      "execution_count": null,
      "metadata": {
        "colab": {
          "base_uri": "https://localhost:8080/",
          "height": 104
        },
        "id": "VPonpcih9GnG",
        "outputId": "12e3b053-f10b-49e3-bb6d-3e84f6b204db",
        "vscode": {
          "languageId": "r"
        }
      },
      "outputs": [],
      "source": [
        "# calculate the distances between each genome (same as we did for genes )\n",
        "\n",
        "genome_mat = genome_fasta_format(species_genomes_df)\n",
        "genome_dist_mat = dist.gene(genome_mat)\n",
        "genome_dist_mat"
      ]
    },
    {
      "cell_type": "markdown",
      "metadata": {
        "id": "xS4Nxuts2bGr"
      },
      "source": [
        "There are many more differences between these organisms when we compare the whole genome! How does the tree look? Use the same function from above to plot a new phylogenetic tree. You can pick whichever \"edge lengths\" option looks best to you."
      ]
    },
    {
      "cell_type": "code",
      "execution_count": null,
      "metadata": {
        "id": "ugBDbAp02hxu",
        "vscode": {
          "languageId": "r"
        }
      },
      "outputs": [],
      "source": [
        "######## YOUR CODE HERE #########"
      ]
    },
    {
      "cell_type": "markdown",
      "metadata": {
        "id": "ASXzrHkE9OMH"
      },
      "source": [
        "Some questions to discuss with your neighbors:\n",
        "\n",
        "\n",
        "*  Is this tree the same as what we saw using just gene 1? If not, why might they be different?\n",
        "*  Based on the overall genomes, which organisms are most closely related? Does this make sense to you based on what you know about these organisms?\n",
        "* How does it compare to what you saw looking at the traits from the metadata visualizations?\n"
      ]
    },
    {
      "cell_type": "markdown",
      "metadata": {
        "id": "WVdIh1WOrUFA"
      },
      "source": [
        "Sometimes, scientists are faced with this problem in real life - traits and small differences between organisms can be tricky to measure at a large scale. Sometimes, there is variation in these traits depending on who took the measurement or what instrument they used. Using DNA sequencing and looking at the simple differences between organisms has changed the way scientists see the world!  "
      ]
    }
  ],
  "metadata": {
    "colab": {
      "provenance": []
    },
    "kernelspec": {
      "display_name": "R",
      "name": "ir"
    },
    "language_info": {
      "name": "R"
    }
  },
  "nbformat": 4,
  "nbformat_minor": 0
}
